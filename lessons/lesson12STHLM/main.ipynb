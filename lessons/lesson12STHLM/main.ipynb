{
 "cells": [
  {
   "attachments": {},
   "cell_type": "markdown",
   "metadata": {},
   "source": [
    "# Testing\n",
    "## Varför behövs dessa\n",
    "### Numpy\n",
    "\n",
    "- Numpy är skrivet i C\n",
    "- Python är ett intterpreterat språk, därför långsamt\n",
    "- C är ett kompilerat språk, därför snabbt"
   ]
  },
  {
   "cell_type": "code",
   "execution_count": 22,
   "metadata": {},
   "outputs": [
    {
     "name": "stdout",
     "output_type": "stream",
     "text": [
      "Hola\n"
     ]
    }
   ],
   "source": [
    "import numpy as np\n",
    "print(\"Hola\")\n"
   ]
  },
  {
   "cell_type": "code",
   "execution_count": null,
   "metadata": {},
   "outputs": [],
   "source": [
    "arr = np.array([1, 2, 3])\n",
    "arr"
   ]
  },
  {
   "attachments": {},
   "cell_type": "markdown",
   "metadata": {},
   "source": [
    "Numpy arrayer kan bara innehålla en datatyp"
   ]
  },
  {
   "cell_type": "code",
   "execution_count": null,
   "metadata": {},
   "outputs": [],
   "source": [
    "a_list = [1, 2, 3]\n",
    "a_list = [1 , 2, \"3\"]\n",
    "print(a_list)\n",
    "# np_arr = np.array(a_list, dtype=np.int8)\n",
    "np_arr = np.array(a_list)\n",
    "np_arr"
   ]
  },
  {
   "attachments": {},
   "cell_type": "markdown",
   "metadata": {},
   "source": [
    "Numpy arrayer kan vara flerdimensionella"
   ]
  },
  {
   "cell_type": "code",
   "execution_count": null,
   "metadata": {},
   "outputs": [],
   "source": [
    "one_array = np.ones((3,3), dtype=np.int8)\n",
    "one_array = one_array.reshape(9, 1)\n",
    "one_array"
   ]
  },
  {
   "cell_type": "code",
   "execution_count": 37,
   "metadata": {},
   "outputs": [
    {
     "data": {
      "text/plain": [
       "array([[0., 0.]])"
      ]
     },
     "execution_count": 37,
     "metadata": {},
     "output_type": "execute_result"
    }
   ],
   "source": [
    "arr = np.ones((12,12))\n",
    "arr[0] = 0\n",
    "arr[:1, 1:3]"
   ]
  },
  {
   "cell_type": "code",
   "execution_count": 57,
   "metadata": {},
   "outputs": [
    {
     "name": "stdout",
     "output_type": "stream",
     "text": [
      "[[1 2 3]\n",
      " [4 5 6]]\n",
      "120\n",
      "6\n",
      "1\n",
      "4\n",
      "[1 2 3]\n"
     ]
    },
    {
     "data": {
      "text/plain": [
       "3.141592653589793"
      ]
     },
     "execution_count": 57,
     "metadata": {},
     "output_type": "execute_result"
    }
   ],
   "source": [
    "# arr = np.array([[1, 2, 3], [4, 5, 6]])\n",
    "arr = np.arange(1, 7).reshape(2,3)\n",
    "print(arr)\n",
    "print(arr[1].prod())\n",
    "print(arr[1].max())\n",
    "print(arr[0].min())\n",
    "print(arr[1].min())\n",
    "print(arr[0])\n",
    "np.pi\n",
    "\n",
    "\n"
   ]
  }
 ],
 "metadata": {
  "kernelspec": {
   "display_name": "lesson12STHLM-P8cJNgRp",
   "language": "python",
   "name": "python3"
  },
  "language_info": {
   "codemirror_mode": {
    "name": "ipython",
    "version": 3
   },
   "file_extension": ".py",
   "mimetype": "text/x-python",
   "name": "python",
   "nbconvert_exporter": "python",
   "pygments_lexer": "ipython3",
   "version": "3.11.1"
  },
  "orig_nbformat": 4,
  "vscode": {
   "interpreter": {
    "hash": "f4b1a950fcd55873b306e1adb9ca7e7d7ec95f946619a450d4fb1de777490dbc"
   }
  }
 },
 "nbformat": 4,
 "nbformat_minor": 2
}
